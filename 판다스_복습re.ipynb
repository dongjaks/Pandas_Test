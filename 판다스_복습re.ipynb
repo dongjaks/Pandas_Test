{
  "nbformat": 4,
  "nbformat_minor": 0,
  "metadata": {
    "colab": {
      "name": "판다스 복습re.ipynb",
      "provenance": [],
      "collapsed_sections": [],
      "include_colab_link": true
    },
    "kernelspec": {
      "name": "python3",
      "display_name": "Python 3"
    }
  },
  "cells": [
    {
      "cell_type": "markdown",
      "metadata": {
        "id": "view-in-github",
        "colab_type": "text"
      },
      "source": [
        "<a href=\"https://colab.research.google.com/github/dongjaks/Pandas_Test/blob/master/%ED%8C%90%EB%8B%A4%EC%8A%A4_%EB%B3%B5%EC%8A%B5re.ipynb\" target=\"_parent\"><img src=\"https://colab.research.google.com/assets/colab-badge.svg\" alt=\"Open In Colab\"/></a>"
      ]
    },
    {
      "cell_type": "code",
      "metadata": {
        "id": "-QwnE4IOSS-4",
        "colab_type": "code",
        "colab": {}
      },
      "source": [
        "import requests\n",
        "import pandas as pd\n",
        "from bs4 import BeautifulSoup"
      ],
      "execution_count": 0,
      "outputs": []
    },
    {
      "cell_type": "code",
      "metadata": {
        "id": "PouPc99lSW6s",
        "colab_type": "code",
        "colab": {}
      },
      "source": [
        "#크롤링 목표 url 연결\n",
        "\n",
        "url = 'https://sports.news.naver.com/kbaseball/record/index.nhn?category=kbo'\n",
        "\n",
        "site = requests.get(url)\n",
        "\n",
        "# 목표 site html.parser로 파싱\n",
        "content = BeautifulSoup(site.content, 'html.parser')"
      ],
      "execution_count": 0,
      "outputs": []
    },
    {
      "cell_type": "code",
      "metadata": {
        "id": "UiMV95ciSt3H",
        "colab_type": "code",
        "colab": {}
      },
      "source": [
        "rank = content.select('div.tbl_box tbody#regularTeamRecordList_table tr th')\n",
        "name = content.select('div.tbl_box tbody#regularTeamRecordList_table tr td.tm span')\n",
        "check = content.select('div.tbl_box tbody#regularTeamRecordList_table tr td:nth-of-type(2) span')\n",
        "games=[]\n",
        "for x in range(0,10):\n",
        "  next = 2+x*11\n",
        "  location = 'div.tbl_box tbody#regularTeamRecordList_table tr td:nth-of-type(%s) span' %next\n",
        "  games.append(int(content.select(location)[0].text)) \n",
        "wins=[]\n",
        "for x in range(0,10):\n",
        "  next = 3+x*11\n",
        "  location = 'div.tbl_box tbody#regularTeamRecordList_table tr td:nth-of-type(%s) span' %next\n",
        "  wins.append(int(content.select(location)[0].text))"
      ],
      "execution_count": 0,
      "outputs": []
    },
    {
      "cell_type": "code",
      "metadata": {
        "id": "MvMPyJFjZP_f",
        "colab_type": "code",
        "colab": {}
      },
      "source": [
        "ranks =[]\n",
        "for x in rank:\n",
        "  ranks.append(int(x.string))\n",
        "\n",
        "names=[]\n",
        "for x in name:\n",
        "  names.append(x.string)"
      ],
      "execution_count": 0,
      "outputs": []
    },
    {
      "cell_type": "code",
      "metadata": {
        "id": "Klji6mfgZ2nk",
        "colab_type": "code",
        "colab": {}
      },
      "source": [
        "df = pd.DataFrame({'순위':ranks,'구단명':names,'게임수':games,'승리':wins})\n",
        "df"
      ],
      "execution_count": 0,
      "outputs": []
    },
    {
      "cell_type": "code",
      "metadata": {
        "id": "4bWhPKgPeqF4",
        "colab_type": "code",
        "colab": {
          "base_uri": "https://localhost:8080/",
          "height": 204
        },
        "outputId": "9b1abb78-dae5-4b8e-b725-005431abe494"
      },
      "source": [
        "df.head(5)"
      ],
      "execution_count": 159,
      "outputs": [
        {
          "output_type": "execute_result",
          "data": {
            "text/html": [
              "<div>\n",
              "<style scoped>\n",
              "    .dataframe tbody tr th:only-of-type {\n",
              "        vertical-align: middle;\n",
              "    }\n",
              "\n",
              "    .dataframe tbody tr th {\n",
              "        vertical-align: top;\n",
              "    }\n",
              "\n",
              "    .dataframe thead th {\n",
              "        text-align: right;\n",
              "    }\n",
              "</style>\n",
              "<table border=\"1\" class=\"dataframe\">\n",
              "  <thead>\n",
              "    <tr style=\"text-align: right;\">\n",
              "      <th></th>\n",
              "      <th>순위</th>\n",
              "      <th>구단명</th>\n",
              "      <th>게임수</th>\n",
              "      <th>승리</th>\n",
              "    </tr>\n",
              "  </thead>\n",
              "  <tbody>\n",
              "    <tr>\n",
              "      <th>0</th>\n",
              "      <td>1</td>\n",
              "      <td>두산</td>\n",
              "      <td>144</td>\n",
              "      <td>88</td>\n",
              "    </tr>\n",
              "    <tr>\n",
              "      <th>1</th>\n",
              "      <td>2</td>\n",
              "      <td>SK</td>\n",
              "      <td>144</td>\n",
              "      <td>88</td>\n",
              "    </tr>\n",
              "    <tr>\n",
              "      <th>2</th>\n",
              "      <td>3</td>\n",
              "      <td>키움</td>\n",
              "      <td>144</td>\n",
              "      <td>86</td>\n",
              "    </tr>\n",
              "    <tr>\n",
              "      <th>3</th>\n",
              "      <td>4</td>\n",
              "      <td>LG</td>\n",
              "      <td>144</td>\n",
              "      <td>79</td>\n",
              "    </tr>\n",
              "    <tr>\n",
              "      <th>4</th>\n",
              "      <td>5</td>\n",
              "      <td>NC</td>\n",
              "      <td>144</td>\n",
              "      <td>73</td>\n",
              "    </tr>\n",
              "  </tbody>\n",
              "</table>\n",
              "</div>"
            ],
            "text/plain": [
              "   순위 구단명  게임수  승리\n",
              "0   1  두산  144  88\n",
              "1   2  SK  144  88\n",
              "2   3  키움  144  86\n",
              "3   4  LG  144  79\n",
              "4   5  NC  144  73"
            ]
          },
          "metadata": {
            "tags": []
          },
          "execution_count": 159
        }
      ]
    },
    {
      "cell_type": "code",
      "metadata": {
        "id": "LNB0Zhg5e60K",
        "colab_type": "code",
        "colab": {
          "base_uri": "https://localhost:8080/",
          "height": 35
        },
        "outputId": "3bc0b35c-2747-4808-86fd-ea7eb3180596"
      },
      "source": [
        "df.columns"
      ],
      "execution_count": 160,
      "outputs": [
        {
          "output_type": "execute_result",
          "data": {
            "text/plain": [
              "Index(['순위', '구단명', '게임수', '승리'], dtype='object')"
            ]
          },
          "metadata": {
            "tags": []
          },
          "execution_count": 160
        }
      ]
    },
    {
      "cell_type": "code",
      "metadata": {
        "id": "16sx8uX0fBX1",
        "colab_type": "code",
        "colab": {
          "base_uri": "https://localhost:8080/",
          "height": 197
        },
        "outputId": "f349b8e6-a3ce-4e26-d346-0dff3ae0cd0b"
      },
      "source": [
        "df.values"
      ],
      "execution_count": 166,
      "outputs": [
        {
          "output_type": "execute_result",
          "data": {
            "text/plain": [
              "array([[1, '두산', 144, 88],\n",
              "       [2, 'SK', 144, 88],\n",
              "       [3, '키움', 144, 86],\n",
              "       [4, 'LG', 144, 79],\n",
              "       [5, 'NC', 144, 73],\n",
              "       [6, 'KT', 144, 71],\n",
              "       [7, 'KIA', 144, 62],\n",
              "       [8, '삼성', 144, 60],\n",
              "       [9, '한화', 144, 58],\n",
              "       [10, '롯데', 144, 48]], dtype=object)"
            ]
          },
          "metadata": {
            "tags": []
          },
          "execution_count": 166
        }
      ]
    },
    {
      "cell_type": "code",
      "metadata": {
        "id": "F61KdqiUfDbS",
        "colab_type": "code",
        "colab": {
          "base_uri": "https://localhost:8080/",
          "height": 297
        },
        "outputId": "ef66b59f-0819-4ecb-f6df-ab32b720313e"
      },
      "source": [
        "df.describe()"
      ],
      "execution_count": 167,
      "outputs": [
        {
          "output_type": "execute_result",
          "data": {
            "text/html": [
              "<div>\n",
              "<style scoped>\n",
              "    .dataframe tbody tr th:only-of-type {\n",
              "        vertical-align: middle;\n",
              "    }\n",
              "\n",
              "    .dataframe tbody tr th {\n",
              "        vertical-align: top;\n",
              "    }\n",
              "\n",
              "    .dataframe thead th {\n",
              "        text-align: right;\n",
              "    }\n",
              "</style>\n",
              "<table border=\"1\" class=\"dataframe\">\n",
              "  <thead>\n",
              "    <tr style=\"text-align: right;\">\n",
              "      <th></th>\n",
              "      <th>순위</th>\n",
              "      <th>게임수</th>\n",
              "      <th>승리</th>\n",
              "    </tr>\n",
              "  </thead>\n",
              "  <tbody>\n",
              "    <tr>\n",
              "      <th>count</th>\n",
              "      <td>10.00000</td>\n",
              "      <td>10.0</td>\n",
              "      <td>10.000000</td>\n",
              "    </tr>\n",
              "    <tr>\n",
              "      <th>mean</th>\n",
              "      <td>5.50000</td>\n",
              "      <td>144.0</td>\n",
              "      <td>71.300000</td>\n",
              "    </tr>\n",
              "    <tr>\n",
              "      <th>std</th>\n",
              "      <td>3.02765</td>\n",
              "      <td>0.0</td>\n",
              "      <td>14.024185</td>\n",
              "    </tr>\n",
              "    <tr>\n",
              "      <th>min</th>\n",
              "      <td>1.00000</td>\n",
              "      <td>144.0</td>\n",
              "      <td>48.000000</td>\n",
              "    </tr>\n",
              "    <tr>\n",
              "      <th>25%</th>\n",
              "      <td>3.25000</td>\n",
              "      <td>144.0</td>\n",
              "      <td>60.500000</td>\n",
              "    </tr>\n",
              "    <tr>\n",
              "      <th>50%</th>\n",
              "      <td>5.50000</td>\n",
              "      <td>144.0</td>\n",
              "      <td>72.000000</td>\n",
              "    </tr>\n",
              "    <tr>\n",
              "      <th>75%</th>\n",
              "      <td>7.75000</td>\n",
              "      <td>144.0</td>\n",
              "      <td>84.250000</td>\n",
              "    </tr>\n",
              "    <tr>\n",
              "      <th>max</th>\n",
              "      <td>10.00000</td>\n",
              "      <td>144.0</td>\n",
              "      <td>88.000000</td>\n",
              "    </tr>\n",
              "  </tbody>\n",
              "</table>\n",
              "</div>"
            ],
            "text/plain": [
              "             순위    게임수         승리\n",
              "count  10.00000   10.0  10.000000\n",
              "mean    5.50000  144.0  71.300000\n",
              "std     3.02765    0.0  14.024185\n",
              "min     1.00000  144.0  48.000000\n",
              "25%     3.25000  144.0  60.500000\n",
              "50%     5.50000  144.0  72.000000\n",
              "75%     7.75000  144.0  84.250000\n",
              "max    10.00000  144.0  88.000000"
            ]
          },
          "metadata": {
            "tags": []
          },
          "execution_count": 167
        }
      ]
    },
    {
      "cell_type": "code",
      "metadata": {
        "id": "zFwuTQ6zfFtw",
        "colab_type": "code",
        "colab": {
          "base_uri": "https://localhost:8080/",
          "height": 179
        },
        "outputId": "51945f52-95f4-4393-c9c3-472c66fcba40"
      },
      "source": [
        "df.info()"
      ],
      "execution_count": 169,
      "outputs": [
        {
          "output_type": "stream",
          "text": [
            "<class 'pandas.core.frame.DataFrame'>\n",
            "RangeIndex: 10 entries, 0 to 9\n",
            "Data columns (total 4 columns):\n",
            "순위     10 non-null int64\n",
            "구단명    10 non-null object\n",
            "게임수    10 non-null int64\n",
            "승리     10 non-null int64\n",
            "dtypes: int64(3), object(1)\n",
            "memory usage: 400.0+ bytes\n"
          ],
          "name": "stdout"
        }
      ]
    },
    {
      "cell_type": "code",
      "metadata": {
        "id": "pTs-4DGZfUp5",
        "colab_type": "code",
        "colab": {
          "base_uri": "https://localhost:8080/",
          "height": 215
        },
        "outputId": "bd72b39b-07a6-4b6b-c68d-de1220c57e72"
      },
      "source": [
        "df['순위']"
      ],
      "execution_count": 170,
      "outputs": [
        {
          "output_type": "execute_result",
          "data": {
            "text/plain": [
              "0     1\n",
              "1     2\n",
              "2     3\n",
              "3     4\n",
              "4     5\n",
              "5     6\n",
              "6     7\n",
              "7     8\n",
              "8     9\n",
              "9    10\n",
              "Name: 순위, dtype: int64"
            ]
          },
          "metadata": {
            "tags": []
          },
          "execution_count": 170
        }
      ]
    },
    {
      "cell_type": "code",
      "metadata": {
        "id": "UwyloojCfYir",
        "colab_type": "code",
        "colab": {
          "base_uri": "https://localhost:8080/",
          "height": 215
        },
        "outputId": "72b55e88-cfa2-449c-d92d-5c31a0528af9"
      },
      "source": [
        "df['구단명']"
      ],
      "execution_count": 171,
      "outputs": [
        {
          "output_type": "execute_result",
          "data": {
            "text/plain": [
              "0     두산\n",
              "1     SK\n",
              "2     키움\n",
              "3     LG\n",
              "4     NC\n",
              "5     KT\n",
              "6    KIA\n",
              "7     삼성\n",
              "8     한화\n",
              "9     롯데\n",
              "Name: 구단명, dtype: object"
            ]
          },
          "metadata": {
            "tags": []
          },
          "execution_count": 171
        }
      ]
    },
    {
      "cell_type": "code",
      "metadata": {
        "id": "jjliCU_9fbad",
        "colab_type": "code",
        "colab": {
          "base_uri": "https://localhost:8080/",
          "height": 359
        },
        "outputId": "f926ec9e-c1f7-4f3c-f176-6e6eb0d984bc"
      },
      "source": [
        "df.sort_values(by='승리', ascending=True)"
      ],
      "execution_count": 173,
      "outputs": [
        {
          "output_type": "execute_result",
          "data": {
            "text/html": [
              "<div>\n",
              "<style scoped>\n",
              "    .dataframe tbody tr th:only-of-type {\n",
              "        vertical-align: middle;\n",
              "    }\n",
              "\n",
              "    .dataframe tbody tr th {\n",
              "        vertical-align: top;\n",
              "    }\n",
              "\n",
              "    .dataframe thead th {\n",
              "        text-align: right;\n",
              "    }\n",
              "</style>\n",
              "<table border=\"1\" class=\"dataframe\">\n",
              "  <thead>\n",
              "    <tr style=\"text-align: right;\">\n",
              "      <th></th>\n",
              "      <th>순위</th>\n",
              "      <th>구단명</th>\n",
              "      <th>게임수</th>\n",
              "      <th>승리</th>\n",
              "    </tr>\n",
              "  </thead>\n",
              "  <tbody>\n",
              "    <tr>\n",
              "      <th>9</th>\n",
              "      <td>10</td>\n",
              "      <td>롯데</td>\n",
              "      <td>144</td>\n",
              "      <td>48</td>\n",
              "    </tr>\n",
              "    <tr>\n",
              "      <th>8</th>\n",
              "      <td>9</td>\n",
              "      <td>한화</td>\n",
              "      <td>144</td>\n",
              "      <td>58</td>\n",
              "    </tr>\n",
              "    <tr>\n",
              "      <th>7</th>\n",
              "      <td>8</td>\n",
              "      <td>삼성</td>\n",
              "      <td>144</td>\n",
              "      <td>60</td>\n",
              "    </tr>\n",
              "    <tr>\n",
              "      <th>6</th>\n",
              "      <td>7</td>\n",
              "      <td>KIA</td>\n",
              "      <td>144</td>\n",
              "      <td>62</td>\n",
              "    </tr>\n",
              "    <tr>\n",
              "      <th>5</th>\n",
              "      <td>6</td>\n",
              "      <td>KT</td>\n",
              "      <td>144</td>\n",
              "      <td>71</td>\n",
              "    </tr>\n",
              "    <tr>\n",
              "      <th>4</th>\n",
              "      <td>5</td>\n",
              "      <td>NC</td>\n",
              "      <td>144</td>\n",
              "      <td>73</td>\n",
              "    </tr>\n",
              "    <tr>\n",
              "      <th>3</th>\n",
              "      <td>4</td>\n",
              "      <td>LG</td>\n",
              "      <td>144</td>\n",
              "      <td>79</td>\n",
              "    </tr>\n",
              "    <tr>\n",
              "      <th>2</th>\n",
              "      <td>3</td>\n",
              "      <td>키움</td>\n",
              "      <td>144</td>\n",
              "      <td>86</td>\n",
              "    </tr>\n",
              "    <tr>\n",
              "      <th>0</th>\n",
              "      <td>1</td>\n",
              "      <td>두산</td>\n",
              "      <td>144</td>\n",
              "      <td>88</td>\n",
              "    </tr>\n",
              "    <tr>\n",
              "      <th>1</th>\n",
              "      <td>2</td>\n",
              "      <td>SK</td>\n",
              "      <td>144</td>\n",
              "      <td>88</td>\n",
              "    </tr>\n",
              "  </tbody>\n",
              "</table>\n",
              "</div>"
            ],
            "text/plain": [
              "   순위  구단명  게임수  승리\n",
              "9  10   롯데  144  48\n",
              "8   9   한화  144  58\n",
              "7   8   삼성  144  60\n",
              "6   7  KIA  144  62\n",
              "5   6   KT  144  71\n",
              "4   5   NC  144  73\n",
              "3   4   LG  144  79\n",
              "2   3   키움  144  86\n",
              "0   1   두산  144  88\n",
              "1   2   SK  144  88"
            ]
          },
          "metadata": {
            "tags": []
          },
          "execution_count": 173
        }
      ]
    },
    {
      "cell_type": "code",
      "metadata": {
        "id": "J2pULcNBfjQ0",
        "colab_type": "code",
        "colab": {
          "base_uri": "https://localhost:8080/",
          "height": 204
        },
        "outputId": "e9eeb852-38f1-453b-ca77-6b9cc19e42b1"
      },
      "source": [
        "df[5:10]"
      ],
      "execution_count": 175,
      "outputs": [
        {
          "output_type": "execute_result",
          "data": {
            "text/html": [
              "<div>\n",
              "<style scoped>\n",
              "    .dataframe tbody tr th:only-of-type {\n",
              "        vertical-align: middle;\n",
              "    }\n",
              "\n",
              "    .dataframe tbody tr th {\n",
              "        vertical-align: top;\n",
              "    }\n",
              "\n",
              "    .dataframe thead th {\n",
              "        text-align: right;\n",
              "    }\n",
              "</style>\n",
              "<table border=\"1\" class=\"dataframe\">\n",
              "  <thead>\n",
              "    <tr style=\"text-align: right;\">\n",
              "      <th></th>\n",
              "      <th>순위</th>\n",
              "      <th>구단명</th>\n",
              "      <th>게임수</th>\n",
              "      <th>승리</th>\n",
              "    </tr>\n",
              "  </thead>\n",
              "  <tbody>\n",
              "    <tr>\n",
              "      <th>5</th>\n",
              "      <td>6</td>\n",
              "      <td>KT</td>\n",
              "      <td>144</td>\n",
              "      <td>71</td>\n",
              "    </tr>\n",
              "    <tr>\n",
              "      <th>6</th>\n",
              "      <td>7</td>\n",
              "      <td>KIA</td>\n",
              "      <td>144</td>\n",
              "      <td>62</td>\n",
              "    </tr>\n",
              "    <tr>\n",
              "      <th>7</th>\n",
              "      <td>8</td>\n",
              "      <td>삼성</td>\n",
              "      <td>144</td>\n",
              "      <td>60</td>\n",
              "    </tr>\n",
              "    <tr>\n",
              "      <th>8</th>\n",
              "      <td>9</td>\n",
              "      <td>한화</td>\n",
              "      <td>144</td>\n",
              "      <td>58</td>\n",
              "    </tr>\n",
              "    <tr>\n",
              "      <th>9</th>\n",
              "      <td>10</td>\n",
              "      <td>롯데</td>\n",
              "      <td>144</td>\n",
              "      <td>48</td>\n",
              "    </tr>\n",
              "  </tbody>\n",
              "</table>\n",
              "</div>"
            ],
            "text/plain": [
              "   순위  구단명  게임수  승리\n",
              "5   6   KT  144  71\n",
              "6   7  KIA  144  62\n",
              "7   8   삼성  144  60\n",
              "8   9   한화  144  58\n",
              "9  10   롯데  144  48"
            ]
          },
          "metadata": {
            "tags": []
          },
          "execution_count": 175
        }
      ]
    }
  ]
}